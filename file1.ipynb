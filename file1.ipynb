{
 "cells": [
  {
   "cell_type": "markdown",
   "metadata": {},
   "source": [
    "## 1. Z test\n",
    "## 2. t test\n",
    "## 3. Chi-Square test\n",
    "## 4. F test \n",
    "## 5. ANOVA"
   ]
  },
  {
   "cell_type": "markdown",
   "metadata": {},
   "source": [
    "## 1. Z test"
   ]
  },
  {
   "cell_type": "markdown",
   "metadata": {},
   "source": [
    "* 1.First we decide the null and alternative hypothesis\n",
    "\n",
    "* 2.Confidence interval and alpha \n",
    "\n",
    "* 3.Calculate the test statistic\n",
    "\n",
    "\n"
   ]
  },
  {
   "cell_type": "markdown",
   "metadata": {},
   "source": [
    "Q) a school claimed the student are more intellligent than avg school\n",
    "\n",
    "* xbar = 110    n= 5  mu = 100  sigma = 15"
   ]
  },
  {
   "cell_type": "markdown",
   "metadata": {},
   "source": [
    "* z_score = (xbar -mu)/ (sigma/sqrt(n))"
   ]
  },
  {
   "cell_type": "code",
   "execution_count": 1,
   "metadata": {},
   "outputs": [
    {
     "name": "stdout",
     "output_type": "stream",
     "text": [
      "Defaulting to user installation because normal site-packages is not writeable\n",
      "Requirement already satisfied: scipy in d:\\anaconda\\lib\\site-packages (1.10.1)\n",
      "Requirement already satisfied: numpy<1.27.0,>=1.19.5 in d:\\anaconda\\lib\\site-packages (from scipy) (1.24.3)\n"
     ]
    }
   ],
   "source": [
    "!pip install scipy\n"
   ]
  },
  {
   "cell_type": "code",
   "execution_count": 2,
   "metadata": {},
   "outputs": [],
   "source": [
    "import numpy as np \n",
    "import scipy.stats as stats \n"
   ]
  },
  {
   "cell_type": "code",
   "execution_count": 3,
   "metadata": {},
   "outputs": [],
   "source": [
    "\n",
    "sample_mean1 = 110\n",
    "pop_mean1    = 100\n",
    "pop_std1     = 15\n",
    "n1           = 50\n",
    "alpha1      = 0.05"
   ]
  },
  {
   "cell_type": "code",
   "execution_count": 4,
   "metadata": {},
   "outputs": [
    {
     "data": {
      "text/plain": [
       "0.95"
      ]
     },
     "execution_count": 4,
     "metadata": {},
     "output_type": "execute_result"
    }
   ],
   "source": [
    "confidence_interval1 = 1-alpha1\n",
    "confidence_interval1"
   ]
  },
  {
   "cell_type": "code",
   "execution_count": 5,
   "metadata": {},
   "outputs": [
    {
     "data": {
      "text/plain": [
       "4.714045207910317"
      ]
     },
     "execution_count": 5,
     "metadata": {},
     "output_type": "execute_result"
    }
   ],
   "source": [
    "Z_score1= (sample_mean1-pop_mean1)/(pop_std1/np.sqrt(n1))\n",
    "Z_score1"
   ]
  },
  {
   "cell_type": "code",
   "execution_count": 6,
   "metadata": {},
   "outputs": [
    {
     "data": {
      "text/plain": [
       "1.6448536269514722"
      ]
     },
     "execution_count": 6,
     "metadata": {},
     "output_type": "execute_result"
    }
   ],
   "source": [
    "Z_critical1 = stats.norm.ppf(confidence_interval1)\n",
    "Z_critical1"
   ]
  },
  {
   "cell_type": "code",
   "execution_count": 7,
   "metadata": {},
   "outputs": [
    {
     "name": "stdout",
     "output_type": "stream",
     "text": [
      "Reject the null hypothesis\n",
      "ie.,The IQ of the students is more than average school\n"
     ]
    }
   ],
   "source": [
    "if Z_score1 > Z_critical1:\n",
    "    print('Reject the null hypothesis')\n",
    "    print('ie.,The IQ of the students is more than average school')\n",
    "else:\n",
    "    print('Failed to reject the null hypothesis')    \n",
    "    print('ie.,IQ of the students is not more than the avg school')"
   ]
  },
  {
   "cell_type": "markdown",
   "metadata": {},
   "source": [
    "### P value \n",
    "\n",
    "if P value < alpha : we reject the null hypothesis"
   ]
  },
  {
   "cell_type": "code",
   "execution_count": 8,
   "metadata": {},
   "outputs": [
    {
     "data": {
      "text/plain": [
       "1.2142337364462463e-06"
      ]
     },
     "execution_count": 8,
     "metadata": {},
     "output_type": "execute_result"
    }
   ],
   "source": [
    "p_value1 =1 - stats.norm.cdf(abs(Z_score1))\n",
    "p_value1"
   ]
  },
  {
   "cell_type": "code",
   "execution_count": 9,
   "metadata": {},
   "outputs": [
    {
     "name": "stdout",
     "output_type": "stream",
     "text": [
      "We reject the null hypothesis\n"
     ]
    }
   ],
   "source": [
    "if p_value1 < alpha1 :\n",
    "    print('We reject the null hypothesis')\n",
    "else:\n",
    "    print('falied to reject the null hypothesis')    "
   ]
  },
  {
   "cell_type": "markdown",
   "metadata": {},
   "source": [
    "Q):  \n",
    "* sample_mean = 169.5\n",
    "* pop_mean    = 168\n",
    "* pop_std     = 3.9\n",
    "* n           = 36\n",
    "* alpha       = 0.05\n",
    "\n",
    "* Ho: Height remains the same \n",
    "* H1: Height is diffderent"
   ]
  },
  {
   "cell_type": "code",
   "execution_count": 10,
   "metadata": {},
   "outputs": [],
   "source": [
    "sample_mean2 = 169.5\n",
    "pop_mean2    = 168\n",
    "pop_std2     = 3.9\n",
    "n2           = 36\n",
    "alpha2       = 0.05"
   ]
  },
  {
   "cell_type": "code",
   "execution_count": 11,
   "metadata": {},
   "outputs": [
    {
     "name": "stdout",
     "output_type": "stream",
     "text": [
      "Z score:2.3076923076923075\n",
      "Z critical:1.959963984540054\n",
      "Reject the null hypothesis\n",
      "ie.,Heights are not the same\n"
     ]
    }
   ],
   "source": [
    "confidence_interval2 = 1- (alpha2/2)\n",
    "Z_score2 = (sample_mean2-pop_mean2)/(pop_std2/np.sqrt(n2))\n",
    "print(f'Z score:{Z_score2}')\n",
    "Z_critical2 = stats.norm.ppf(confidence_interval2)\n",
    "print(f'Z critical:{Z_critical2}')\n",
    "if Z_score2 > Z_critical2:\n",
    "    print('Reject the null hypothesis')\n",
    "    print('ie.,Heights are not the same')\n",
    "else:\n",
    "    print('Failed to reject the null hypothesis')    \n",
    "    print('ie.,heights are same')\n",
    "\n"
   ]
  },
  {
   "cell_type": "markdown",
   "metadata": {},
   "source": [
    "### p value "
   ]
  },
  {
   "cell_type": "code",
   "execution_count": 12,
   "metadata": {},
   "outputs": [
    {
     "name": "stdout",
     "output_type": "stream",
     "text": [
      "p value:0.02101625622751868\n",
      "We reject the null hypothesis\n"
     ]
    }
   ],
   "source": [
    "p_value2 = 2 * (1 - stats.norm.cdf(abs(Z_score2)))\n",
    "print(f'p value:{p_value2}')\n",
    "\n",
    "if p_value2<alpha2:\n",
    "    print('We reject the null hypothesis')\n",
    "else:\n",
    "    print('falied to reject the null hypothesis')    "
   ]
  },
  {
   "cell_type": "markdown",
   "metadata": {},
   "source": [
    "## 2.T test"
   ]
  },
  {
   "cell_type": "markdown",
   "metadata": {},
   "source": [
    "1. One- sample t test (with respect to one independant sample)\n",
    "2. Two- sample t test (with respect to two independant sample)\n",
    "3. paired t-test (two sample from the same population on a diffderent time interval)"
   ]
  },
  {
   "cell_type": "markdown",
   "metadata": {},
   "source": [
    "*  when limited sample \n",
    "* Pop std dev is missing\n",
    "* sample mean = pop mean (true)\n"
   ]
  },
  {
   "cell_type": "markdown",
   "metadata": {},
   "source": [
    "### 1.One- sample t test"
   ]
  },
  {
   "cell_type": "code",
   "execution_count": 13,
   "metadata": {},
   "outputs": [
    {
     "data": {
      "text/plain": [
       "27.4"
      ]
     },
     "execution_count": 13,
     "metadata": {},
     "output_type": "execute_result"
    }
   ],
   "source": [
    "my_cricket_score = [22,38,19,15,48,11,10,49,47,38,10,25,46,10,21,24,29,36,25,25]\n",
    "np.mean(my_cricket_score)"
   ]
  },
  {
   "cell_type": "markdown",
   "metadata": {},
   "source": [
    "null_hypothesis ::::: pop mean = sample mean (should be 27.4)"
   ]
  },
  {
   "cell_type": "markdown",
   "metadata": {},
   "source": [
    "p<=0.05 ====> Reject the null hypothesis\n",
    "\n",
    "p>0.05   ====> Fails to reject the null hypothesis"
   ]
  },
  {
   "cell_type": "code",
   "execution_count": 14,
   "metadata": {},
   "outputs": [],
   "source": [
    "import scipy\n",
    "result = scipy.stats.ttest_1samp(my_cricket_score,15) #"
   ]
  },
  {
   "cell_type": "code",
   "execution_count": 15,
   "metadata": {},
   "outputs": [
    {
     "data": {
      "text/plain": [
       "0.0005672503150661017"
      ]
     },
     "execution_count": 15,
     "metadata": {},
     "output_type": "execute_result"
    }
   ],
   "source": [
    "result[1]"
   ]
  },
  {
   "cell_type": "markdown",
   "metadata": {},
   "source": [
    "Reject null hypothesis \n",
    "ie., mean of sample != mean of population"
   ]
  },
  {
   "cell_type": "code",
   "execution_count": 16,
   "metadata": {},
   "outputs": [
    {
     "data": {
      "text/plain": [
       "0.9737671940842761"
      ]
     },
     "execution_count": 16,
     "metadata": {},
     "output_type": "execute_result"
    }
   ],
   "source": [
    "scipy.stats.ttest_1samp(my_cricket_score,27.3)[1]"
   ]
  },
  {
   "cell_type": "markdown",
   "metadata": {},
   "source": [
    "fails to reject null hypothesis \n",
    "ie., mean of sample = mean of population"
   ]
  },
  {
   "cell_type": "markdown",
   "metadata": {},
   "source": [
    "### 2.Two  sample t test"
   ]
  },
  {
   "cell_type": "code",
   "execution_count": 17,
   "metadata": {},
   "outputs": [],
   "source": [
    "my_cricket_score = [22,38,19,15,48,11,10,49,47,38,10,25,46,10,21,24,29,36,25,25]\n",
    "virat_score     =  [33,45,23,25,46,46,46,49,49,44,44,49,25,31,25,40,30,20,42,37]"
   ]
  },
  {
   "cell_type": "code",
   "execution_count": 18,
   "metadata": {},
   "outputs": [],
   "source": [
    "sample1_mean = np.mean(my_cricket_score)\n",
    "sample2_mean = np.mean(virat_score)"
   ]
  },
  {
   "cell_type": "code",
   "execution_count": 19,
   "metadata": {},
   "outputs": [
    {
     "name": "stdout",
     "output_type": "stream",
     "text": [
      "27.4\n",
      "37.45\n"
     ]
    }
   ],
   "source": [
    "print(sample1_mean)\n",
    "print(sample2_mean)"
   ]
  },
  {
   "cell_type": "markdown",
   "metadata": {},
   "source": [
    "null hypothesis :: sample1_mean = sample2_mean \n",
    "\n",
    "p<=0.05 ====> Reject the null hypothesis\n",
    "\n",
    "p>0.05   ====> Fails to reject the null hypothesis"
   ]
  },
  {
   "cell_type": "code",
   "execution_count": 20,
   "metadata": {},
   "outputs": [
    {
     "data": {
      "text/plain": [
       "0.01058133208007466"
      ]
     },
     "execution_count": 20,
     "metadata": {},
     "output_type": "execute_result"
    }
   ],
   "source": [
    "tstats,pvalue = scipy.stats.ttest_ind(my_cricket_score,virat_score)\n",
    "pvalue"
   ]
  },
  {
   "cell_type": "markdown",
   "metadata": {},
   "source": [
    "Here pvalue < 0.05  , Reject the null hypothesis\n",
    "\n",
    "Hence the two sample means are not equal"
   ]
  },
  {
   "cell_type": "code",
   "execution_count": 21,
   "metadata": {},
   "outputs": [
    {
     "name": "stdout",
     "output_type": "stream",
     "text": [
      "Reject the null hypothesis\n"
     ]
    }
   ],
   "source": [
    "if pvalue<=0.05:\n",
    "    print('Reject the null hypothesis')\n",
    "else:\n",
    "    print('Failed to reject the null hypothesis')    "
   ]
  },
  {
   "cell_type": "markdown",
   "metadata": {},
   "source": [
    "### 3.Two sample Paired  t test"
   ]
  },
  {
   "cell_type": "code",
   "execution_count": 22,
   "metadata": {},
   "outputs": [],
   "source": [
    "# Take a sample from the same population at different time interval\n",
    "\n",
    "import random"
   ]
  },
  {
   "cell_type": "code",
   "execution_count": 23,
   "metadata": {},
   "outputs": [
    {
     "data": {
      "text/plain": [
       "[65,\n",
       " 27,\n",
       " 29,\n",
       " 26,\n",
       " 31,\n",
       " 20,\n",
       " 69,\n",
       " 47,\n",
       " 20,\n",
       " 74,\n",
       " 16,\n",
       " 39,\n",
       " 18,\n",
       " 30,\n",
       " 65,\n",
       " 15,\n",
       " 68,\n",
       " 12,\n",
       " 25,\n",
       " 54,\n",
       " 66,\n",
       " 18,\n",
       " 15,\n",
       " 71,\n",
       " 80,\n",
       " 58,\n",
       " 79,\n",
       " 16,\n",
       " 22,\n",
       " 35,\n",
       " 52,\n",
       " 72,\n",
       " 33,\n",
       " 65,\n",
       " 13,\n",
       " 38,\n",
       " 37,\n",
       " 65,\n",
       " 79,\n",
       " 46,\n",
       " 20,\n",
       " 77,\n",
       " 73,\n",
       " 66,\n",
       " 17,\n",
       " 36,\n",
       " 63,\n",
       " 53,\n",
       " 74]"
      ]
     },
     "execution_count": 23,
     "metadata": {},
     "output_type": "execute_result"
    }
   ],
   "source": [
    "population =[]\n",
    "for i in range(1,50):\n",
    "    population.append(random.randint(10,80))\n",
    "population    "
   ]
  },
  {
   "cell_type": "code",
   "execution_count": 24,
   "metadata": {},
   "outputs": [
    {
     "name": "stdout",
     "output_type": "stream",
     "text": [
      "[65 66 18 18 12 66 47 58 13 12 16 53 30 74 65 80 53 20 65 35]\n",
      "[26 31 25 12 38 79 26 71 74 79 35 29 79 74 37 39 63 27 15 26]\n"
     ]
    }
   ],
   "source": [
    "cricket_scores1=np.random.choice(population,20)\n",
    "cricket_scores2=np.random.choice(population,20)\n",
    "print(cricket_scores1)\n",
    "print(cricket_scores2)\n"
   ]
  },
  {
   "cell_type": "code",
   "execution_count": 25,
   "metadata": {},
   "outputs": [],
   "source": [
    "cricket_scores1=[1, 2, 0 ,33, 6, 32 ,6, 14, 57, 14, 35, 66, 68, 11, 42, 46, 12, 32, 32 ,12]\n",
    "cricket_scores2=[10, 29, 42, 42, 69, 42, 14, 12, 15, 29, 56, 29, 48, 69, 76, 56, 58, 56, 69, 48]"
   ]
  },
  {
   "cell_type": "code",
   "execution_count": 26,
   "metadata": {},
   "outputs": [
    {
     "name": "stdout",
     "output_type": "stream",
     "text": [
      "26.05\n",
      "43.45\n"
     ]
    }
   ],
   "source": [
    "print(np.mean(cricket_scores1))\n",
    "print(np.mean(cricket_scores2))"
   ]
  },
  {
   "cell_type": "code",
   "execution_count": 27,
   "metadata": {},
   "outputs": [
    {
     "data": {
      "text/plain": [
       "0.0119956870566361"
      ]
     },
     "execution_count": 27,
     "metadata": {},
     "output_type": "execute_result"
    }
   ],
   "source": [
    "test_value , p_value =scipy.stats.ttest_rel(cricket_scores1,cricket_scores2)\n",
    "p_value"
   ]
  },
  {
   "cell_type": "code",
   "execution_count": 28,
   "metadata": {},
   "outputs": [
    {
     "name": "stdout",
     "output_type": "stream",
     "text": [
      "Reject the null hypothesis\n",
      "ie.,Two means are not equal\n"
     ]
    }
   ],
   "source": [
    "if p_value <= 0.05:\n",
    "    print('Reject the null hypothesis')\n",
    "    print('ie.,Two means are not equal')\n",
    "    \n",
    "else:\n",
    "    print('Failed to reject the null hypothesis') \n",
    "    print('ie.,Two means are  equal')   "
   ]
  },
  {
   "cell_type": "markdown",
   "metadata": {},
   "source": [
    "Q: The weights of 25 obese people were taken before enrolling them into the nutrition camp. The population mean weight is found to be 45 kg before starting the camp. After finishing the camp, for the same 25 people, the sample mean was found to be 75 with a standard deviation of 25. Did the fitness camp work?"
   ]
  },
  {
   "cell_type": "markdown",
   "metadata": {},
   "source": [
    "Ans:\n",
    "\n",
    "* n=25\n",
    "* pop_mean = 45\n",
    "* sample_mean = 75\n",
    "* sample_sd = 25\n",
    "\n"
   ]
  },
  {
   "cell_type": "code",
   "execution_count": 29,
   "metadata": {},
   "outputs": [],
   "source": [
    "n=25\n",
    "pop_mean = 45\n",
    "sample_mean = 75\n",
    "sample_sd = 25"
   ]
  },
  {
   "cell_type": "markdown",
   "metadata": {},
   "source": [
    "Since the population standard deviation is not given , we have to perform the t test"
   ]
  },
  {
   "cell_type": "markdown",
   "metadata": {},
   "source": [
    "1. Null hypothesis: mean of the sample   = population sample ie., camp does not work\n",
    "2. alt hypothesis: ,mean of the sample  != population sample ie.,camp works"
   ]
  },
  {
   "cell_type": "code",
   "execution_count": 30,
   "metadata": {},
   "outputs": [
    {
     "data": {
      "text/plain": [
       "6.0"
      ]
     },
     "execution_count": 30,
     "metadata": {},
     "output_type": "execute_result"
    }
   ],
   "source": [
    "t_stats = (sample_mean -pop_mean)/(sample_sd/np.sqrt(n))\n",
    "t_stats"
   ]
  },
  {
   "cell_type": "markdown",
   "metadata": {},
   "source": [
    "alpha = 0.05 \n",
    "\n",
    "since it is not given default value 0.05"
   ]
  },
  {
   "cell_type": "code",
   "execution_count": 31,
   "metadata": {},
   "outputs": [
    {
     "data": {
      "text/plain": [
       "1.7108820799094275"
      ]
     },
     "execution_count": 31,
     "metadata": {},
     "output_type": "execute_result"
    }
   ],
   "source": [
    "alpha = 0.05\n",
    "df=n-1\n",
    "t_crit = stats.t.ppf(1-alpha,df)\n",
    "t_crit"
   ]
  },
  {
   "cell_type": "code",
   "execution_count": 32,
   "metadata": {},
   "outputs": [
    {
     "name": "stdout",
     "output_type": "stream",
     "text": [
      "Reject the null hypothesis\n",
      "ie.,camp works\n"
     ]
    }
   ],
   "source": [
    "if t_stats > t_crit:\n",
    "    print('Reject the null hypothesis')\n",
    "    print('ie.,camp works')\n",
    "else:\n",
    "    print('Failed to reject the null hypothesis')\n",
    "    print('ie.,camp does not works')    "
   ]
  },
  {
   "cell_type": "markdown",
   "metadata": {},
   "source": [
    "### p-value"
   ]
  },
  {
   "cell_type": "code",
   "execution_count": 33,
   "metadata": {},
   "outputs": [
    {
     "data": {
      "text/plain": [
       "1.703654035845048e-06"
      ]
     },
     "execution_count": 33,
     "metadata": {},
     "output_type": "execute_result"
    }
   ],
   "source": [
    "p_value=1-stats.t.cdf(t_stats,df)\n",
    "p_value"
   ]
  },
  {
   "cell_type": "code",
   "execution_count": 34,
   "metadata": {},
   "outputs": [
    {
     "name": "stdout",
     "output_type": "stream",
     "text": [
      "Reject the null hypothesis\n"
     ]
    }
   ],
   "source": [
    "if p_value<=0.05:\n",
    "    print('Reject the null hypothesis')\n",
    "else:\n",
    "    print('Failed to reject the null hypothesis')    "
   ]
  },
  {
   "cell_type": "markdown",
   "metadata": {},
   "source": [
    "## 3.Chi_Square test"
   ]
  },
  {
   "cell_type": "code",
   "execution_count": 35,
   "metadata": {},
   "outputs": [],
   "source": [
    "import seaborn as sns"
   ]
  },
  {
   "cell_type": "code",
   "execution_count": 36,
   "metadata": {},
   "outputs": [
    {
     "data": {
      "text/html": [
       "<div>\n",
       "<style scoped>\n",
       "    .dataframe tbody tr th:only-of-type {\n",
       "        vertical-align: middle;\n",
       "    }\n",
       "\n",
       "    .dataframe tbody tr th {\n",
       "        vertical-align: top;\n",
       "    }\n",
       "\n",
       "    .dataframe thead th {\n",
       "        text-align: right;\n",
       "    }\n",
       "</style>\n",
       "<table border=\"1\" class=\"dataframe\">\n",
       "  <thead>\n",
       "    <tr style=\"text-align: right;\">\n",
       "      <th></th>\n",
       "      <th>total_bill</th>\n",
       "      <th>tip</th>\n",
       "      <th>sex</th>\n",
       "      <th>smoker</th>\n",
       "      <th>day</th>\n",
       "      <th>time</th>\n",
       "      <th>size</th>\n",
       "    </tr>\n",
       "  </thead>\n",
       "  <tbody>\n",
       "    <tr>\n",
       "      <th>0</th>\n",
       "      <td>16.99</td>\n",
       "      <td>1.01</td>\n",
       "      <td>Female</td>\n",
       "      <td>No</td>\n",
       "      <td>Sun</td>\n",
       "      <td>Dinner</td>\n",
       "      <td>2</td>\n",
       "    </tr>\n",
       "    <tr>\n",
       "      <th>1</th>\n",
       "      <td>10.34</td>\n",
       "      <td>1.66</td>\n",
       "      <td>Male</td>\n",
       "      <td>No</td>\n",
       "      <td>Sun</td>\n",
       "      <td>Dinner</td>\n",
       "      <td>3</td>\n",
       "    </tr>\n",
       "    <tr>\n",
       "      <th>2</th>\n",
       "      <td>21.01</td>\n",
       "      <td>3.50</td>\n",
       "      <td>Male</td>\n",
       "      <td>No</td>\n",
       "      <td>Sun</td>\n",
       "      <td>Dinner</td>\n",
       "      <td>3</td>\n",
       "    </tr>\n",
       "    <tr>\n",
       "      <th>3</th>\n",
       "      <td>23.68</td>\n",
       "      <td>3.31</td>\n",
       "      <td>Male</td>\n",
       "      <td>No</td>\n",
       "      <td>Sun</td>\n",
       "      <td>Dinner</td>\n",
       "      <td>2</td>\n",
       "    </tr>\n",
       "    <tr>\n",
       "      <th>4</th>\n",
       "      <td>24.59</td>\n",
       "      <td>3.61</td>\n",
       "      <td>Female</td>\n",
       "      <td>No</td>\n",
       "      <td>Sun</td>\n",
       "      <td>Dinner</td>\n",
       "      <td>4</td>\n",
       "    </tr>\n",
       "    <tr>\n",
       "      <th>...</th>\n",
       "      <td>...</td>\n",
       "      <td>...</td>\n",
       "      <td>...</td>\n",
       "      <td>...</td>\n",
       "      <td>...</td>\n",
       "      <td>...</td>\n",
       "      <td>...</td>\n",
       "    </tr>\n",
       "    <tr>\n",
       "      <th>239</th>\n",
       "      <td>29.03</td>\n",
       "      <td>5.92</td>\n",
       "      <td>Male</td>\n",
       "      <td>No</td>\n",
       "      <td>Sat</td>\n",
       "      <td>Dinner</td>\n",
       "      <td>3</td>\n",
       "    </tr>\n",
       "    <tr>\n",
       "      <th>240</th>\n",
       "      <td>27.18</td>\n",
       "      <td>2.00</td>\n",
       "      <td>Female</td>\n",
       "      <td>Yes</td>\n",
       "      <td>Sat</td>\n",
       "      <td>Dinner</td>\n",
       "      <td>2</td>\n",
       "    </tr>\n",
       "    <tr>\n",
       "      <th>241</th>\n",
       "      <td>22.67</td>\n",
       "      <td>2.00</td>\n",
       "      <td>Male</td>\n",
       "      <td>Yes</td>\n",
       "      <td>Sat</td>\n",
       "      <td>Dinner</td>\n",
       "      <td>2</td>\n",
       "    </tr>\n",
       "    <tr>\n",
       "      <th>242</th>\n",
       "      <td>17.82</td>\n",
       "      <td>1.75</td>\n",
       "      <td>Male</td>\n",
       "      <td>No</td>\n",
       "      <td>Sat</td>\n",
       "      <td>Dinner</td>\n",
       "      <td>2</td>\n",
       "    </tr>\n",
       "    <tr>\n",
       "      <th>243</th>\n",
       "      <td>18.78</td>\n",
       "      <td>3.00</td>\n",
       "      <td>Female</td>\n",
       "      <td>No</td>\n",
       "      <td>Thur</td>\n",
       "      <td>Dinner</td>\n",
       "      <td>2</td>\n",
       "    </tr>\n",
       "  </tbody>\n",
       "</table>\n",
       "<p>244 rows × 7 columns</p>\n",
       "</div>"
      ],
      "text/plain": [
       "     total_bill   tip     sex smoker   day    time  size\n",
       "0         16.99  1.01  Female     No   Sun  Dinner     2\n",
       "1         10.34  1.66    Male     No   Sun  Dinner     3\n",
       "2         21.01  3.50    Male     No   Sun  Dinner     3\n",
       "3         23.68  3.31    Male     No   Sun  Dinner     2\n",
       "4         24.59  3.61  Female     No   Sun  Dinner     4\n",
       "..          ...   ...     ...    ...   ...     ...   ...\n",
       "239       29.03  5.92    Male     No   Sat  Dinner     3\n",
       "240       27.18  2.00  Female    Yes   Sat  Dinner     2\n",
       "241       22.67  2.00    Male    Yes   Sat  Dinner     2\n",
       "242       17.82  1.75    Male     No   Sat  Dinner     2\n",
       "243       18.78  3.00  Female     No  Thur  Dinner     2\n",
       "\n",
       "[244 rows x 7 columns]"
      ]
     },
     "execution_count": 36,
     "metadata": {},
     "output_type": "execute_result"
    }
   ],
   "source": [
    "df= sns.load_dataset('tips')\n",
    "df"
   ]
  },
  {
   "cell_type": "code",
   "execution_count": 37,
   "metadata": {},
   "outputs": [
    {
     "data": {
      "text/html": [
       "<div>\n",
       "<style scoped>\n",
       "    .dataframe tbody tr th:only-of-type {\n",
       "        vertical-align: middle;\n",
       "    }\n",
       "\n",
       "    .dataframe tbody tr th {\n",
       "        vertical-align: top;\n",
       "    }\n",
       "\n",
       "    .dataframe thead th {\n",
       "        text-align: right;\n",
       "    }\n",
       "</style>\n",
       "<table border=\"1\" class=\"dataframe\">\n",
       "  <thead>\n",
       "    <tr style=\"text-align: right;\">\n",
       "      <th></th>\n",
       "      <th>total_bill</th>\n",
       "      <th>tip</th>\n",
       "      <th>size</th>\n",
       "    </tr>\n",
       "  </thead>\n",
       "  <tbody>\n",
       "    <tr>\n",
       "      <th>count</th>\n",
       "      <td>244.000000</td>\n",
       "      <td>244.000000</td>\n",
       "      <td>244.000000</td>\n",
       "    </tr>\n",
       "    <tr>\n",
       "      <th>mean</th>\n",
       "      <td>19.785943</td>\n",
       "      <td>2.998279</td>\n",
       "      <td>2.569672</td>\n",
       "    </tr>\n",
       "    <tr>\n",
       "      <th>std</th>\n",
       "      <td>8.902412</td>\n",
       "      <td>1.383638</td>\n",
       "      <td>0.951100</td>\n",
       "    </tr>\n",
       "    <tr>\n",
       "      <th>min</th>\n",
       "      <td>3.070000</td>\n",
       "      <td>1.000000</td>\n",
       "      <td>1.000000</td>\n",
       "    </tr>\n",
       "    <tr>\n",
       "      <th>25%</th>\n",
       "      <td>13.347500</td>\n",
       "      <td>2.000000</td>\n",
       "      <td>2.000000</td>\n",
       "    </tr>\n",
       "    <tr>\n",
       "      <th>50%</th>\n",
       "      <td>17.795000</td>\n",
       "      <td>2.900000</td>\n",
       "      <td>2.000000</td>\n",
       "    </tr>\n",
       "    <tr>\n",
       "      <th>75%</th>\n",
       "      <td>24.127500</td>\n",
       "      <td>3.562500</td>\n",
       "      <td>3.000000</td>\n",
       "    </tr>\n",
       "    <tr>\n",
       "      <th>max</th>\n",
       "      <td>50.810000</td>\n",
       "      <td>10.000000</td>\n",
       "      <td>6.000000</td>\n",
       "    </tr>\n",
       "  </tbody>\n",
       "</table>\n",
       "</div>"
      ],
      "text/plain": [
       "       total_bill         tip        size\n",
       "count  244.000000  244.000000  244.000000\n",
       "mean    19.785943    2.998279    2.569672\n",
       "std      8.902412    1.383638    0.951100\n",
       "min      3.070000    1.000000    1.000000\n",
       "25%     13.347500    2.000000    2.000000\n",
       "50%     17.795000    2.900000    2.000000\n",
       "75%     24.127500    3.562500    3.000000\n",
       "max     50.810000   10.000000    6.000000"
      ]
     },
     "execution_count": 37,
     "metadata": {},
     "output_type": "execute_result"
    }
   ],
   "source": [
    "df.describe()"
   ]
  },
  {
   "cell_type": "code",
   "execution_count": 38,
   "metadata": {},
   "outputs": [
    {
     "data": {
      "text/html": [
       "<div>\n",
       "<style scoped>\n",
       "    .dataframe tbody tr th:only-of-type {\n",
       "        vertical-align: middle;\n",
       "    }\n",
       "\n",
       "    .dataframe tbody tr th {\n",
       "        vertical-align: top;\n",
       "    }\n",
       "\n",
       "    .dataframe thead th {\n",
       "        text-align: right;\n",
       "    }\n",
       "</style>\n",
       "<table border=\"1\" class=\"dataframe\">\n",
       "  <thead>\n",
       "    <tr style=\"text-align: right;\">\n",
       "      <th></th>\n",
       "      <th>sex</th>\n",
       "      <th>smoker</th>\n",
       "    </tr>\n",
       "  </thead>\n",
       "  <tbody>\n",
       "    <tr>\n",
       "      <th>0</th>\n",
       "      <td>Female</td>\n",
       "      <td>No</td>\n",
       "    </tr>\n",
       "    <tr>\n",
       "      <th>1</th>\n",
       "      <td>Male</td>\n",
       "      <td>No</td>\n",
       "    </tr>\n",
       "    <tr>\n",
       "      <th>2</th>\n",
       "      <td>Male</td>\n",
       "      <td>No</td>\n",
       "    </tr>\n",
       "    <tr>\n",
       "      <th>3</th>\n",
       "      <td>Male</td>\n",
       "      <td>No</td>\n",
       "    </tr>\n",
       "    <tr>\n",
       "      <th>4</th>\n",
       "      <td>Female</td>\n",
       "      <td>No</td>\n",
       "    </tr>\n",
       "    <tr>\n",
       "      <th>5</th>\n",
       "      <td>Male</td>\n",
       "      <td>No</td>\n",
       "    </tr>\n",
       "    <tr>\n",
       "      <th>6</th>\n",
       "      <td>Male</td>\n",
       "      <td>No</td>\n",
       "    </tr>\n",
       "    <tr>\n",
       "      <th>7</th>\n",
       "      <td>Male</td>\n",
       "      <td>No</td>\n",
       "    </tr>\n",
       "    <tr>\n",
       "      <th>8</th>\n",
       "      <td>Male</td>\n",
       "      <td>No</td>\n",
       "    </tr>\n",
       "    <tr>\n",
       "      <th>9</th>\n",
       "      <td>Male</td>\n",
       "      <td>No</td>\n",
       "    </tr>\n",
       "  </tbody>\n",
       "</table>\n",
       "</div>"
      ],
      "text/plain": [
       "      sex smoker\n",
       "0  Female     No\n",
       "1    Male     No\n",
       "2    Male     No\n",
       "3    Male     No\n",
       "4  Female     No\n",
       "5    Male     No\n",
       "6    Male     No\n",
       "7    Male     No\n",
       "8    Male     No\n",
       "9    Male     No"
      ]
     },
     "execution_count": 38,
     "metadata": {},
     "output_type": "execute_result"
    }
   ],
   "source": [
    "df[['sex','smoker']].head(10)"
   ]
  },
  {
   "cell_type": "code",
   "execution_count": 39,
   "metadata": {},
   "outputs": [
    {
     "data": {
      "text/html": [
       "<div>\n",
       "<style scoped>\n",
       "    .dataframe tbody tr th:only-of-type {\n",
       "        vertical-align: middle;\n",
       "    }\n",
       "\n",
       "    .dataframe tbody tr th {\n",
       "        vertical-align: top;\n",
       "    }\n",
       "\n",
       "    .dataframe thead th {\n",
       "        text-align: right;\n",
       "    }\n",
       "</style>\n",
       "<table border=\"1\" class=\"dataframe\">\n",
       "  <thead>\n",
       "    <tr style=\"text-align: right;\">\n",
       "      <th>smoker</th>\n",
       "      <th>Yes</th>\n",
       "      <th>No</th>\n",
       "    </tr>\n",
       "    <tr>\n",
       "      <th>sex</th>\n",
       "      <th></th>\n",
       "      <th></th>\n",
       "    </tr>\n",
       "  </thead>\n",
       "  <tbody>\n",
       "    <tr>\n",
       "      <th>Male</th>\n",
       "      <td>60</td>\n",
       "      <td>97</td>\n",
       "    </tr>\n",
       "    <tr>\n",
       "      <th>Female</th>\n",
       "      <td>33</td>\n",
       "      <td>54</td>\n",
       "    </tr>\n",
       "  </tbody>\n",
       "</table>\n",
       "</div>"
      ],
      "text/plain": [
       "smoker  Yes  No\n",
       "sex            \n",
       "Male     60  97\n",
       "Female   33  54"
      ]
     },
     "execution_count": 39,
     "metadata": {},
     "output_type": "execute_result"
    }
   ],
   "source": [
    "import pandas as pd\n",
    "table=pd.crosstab(df['sex'],df['smoker'])\n",
    "table"
   ]
  },
  {
   "cell_type": "code",
   "execution_count": 40,
   "metadata": {},
   "outputs": [
    {
     "data": {
      "text/plain": [
       "array([[60, 97],\n",
       "       [33, 54]], dtype=int64)"
      ]
     },
     "execution_count": 40,
     "metadata": {},
     "output_type": "execute_result"
    }
   ],
   "source": [
    "observed_value = table.values\n",
    "observed_value\n"
   ]
  },
  {
   "cell_type": "code",
   "execution_count": 41,
   "metadata": {},
   "outputs": [],
   "source": [
    "import scipy.stats as stats"
   ]
  },
  {
   "cell_type": "markdown",
   "metadata": {},
   "source": [
    "### Chi Square"
   ]
  },
  {
   "cell_type": "markdown",
   "metadata": {},
   "source": [
    "* Null hypothesis: two variables are independant\n",
    "* alternative hypothesis: two variables are dependant"
   ]
  },
  {
   "cell_type": "code",
   "execution_count": 53,
   "metadata": {},
   "outputs": [
    {
     "data": {
      "text/plain": [
       "array([[59.84016393, 97.15983607],\n",
       "       [33.15983607, 53.84016393]])"
      ]
     },
     "execution_count": 53,
     "metadata": {},
     "output_type": "execute_result"
    }
   ],
   "source": [
    "stats_test, p, dof,expected_values=stats.chi2_contingency(observed_value)\n",
    "expected_values"
   ]
  },
  {
   "cell_type": "code",
   "execution_count": 54,
   "metadata": {},
   "outputs": [
    {
     "data": {
      "text/plain": [
       "array([[59.84016393, 97.15983607],\n",
       "       [33.15983607, 53.84016393]])"
      ]
     },
     "execution_count": 54,
     "metadata": {},
     "output_type": "execute_result"
    }
   ],
   "source": [
    "expected_values"
   ]
  },
  {
   "cell_type": "code",
   "execution_count": 58,
   "metadata": {},
   "outputs": [],
   "source": [
    "no_columns=table.iloc[0:2,0]"
   ]
  },
  {
   "cell_type": "code",
   "execution_count": 59,
   "metadata": {},
   "outputs": [
    {
     "data": {
      "text/plain": [
       "sex\n",
       "Male      97\n",
       "Female    54\n",
       "Name: No, dtype: int64"
      ]
     },
     "execution_count": 59,
     "metadata": {},
     "output_type": "execute_result"
    }
   ],
   "source": [
    "table.iloc[0:2,1]"
   ]
  },
  {
   "cell_type": "code",
   "execution_count": 60,
   "metadata": {},
   "outputs": [],
   "source": [
    "no_rows=table.iloc[0,0:2]"
   ]
  },
  {
   "cell_type": "code",
   "execution_count": 61,
   "metadata": {},
   "outputs": [
    {
     "data": {
      "text/plain": [
       "smoker\n",
       "Yes    33\n",
       "No     54\n",
       "Name: Female, dtype: int64"
      ]
     },
     "execution_count": 61,
     "metadata": {},
     "output_type": "execute_result"
    }
   ],
   "source": [
    "table.iloc[1,0:2]"
   ]
  },
  {
   "cell_type": "code",
   "execution_count": 62,
   "metadata": {},
   "outputs": [
    {
     "data": {
      "text/plain": [
       "1"
      ]
     },
     "execution_count": 62,
     "metadata": {},
     "output_type": "execute_result"
    }
   ],
   "source": [
    "deg_freedom = (len(no_columns )- 1)*(len(no_rows )- 1)\n",
    "deg_freedom"
   ]
  },
  {
   "cell_type": "markdown",
   "metadata": {},
   "source": [
    "Chi_squ_tst = sum (i - n)[(O-E)^2/E]"
   ]
  },
  {
   "cell_type": "code",
   "execution_count": 63,
   "metadata": {},
   "outputs": [
    {
     "name": "stdout",
     "output_type": "stream",
     "text": [
      "[60 97]\n",
      "[59.84016393 97.15983607]\n",
      "[33 54]\n",
      "[33.15983607 53.84016393]\n"
     ]
    }
   ],
   "source": [
    "for o,e in zip(observed_value,expected_values):\n",
    "    print(o)\n",
    "    print(e)\n",
    "    "
   ]
  },
  {
   "cell_type": "code",
   "execution_count": 64,
   "metadata": {},
   "outputs": [
    {
     "data": {
      "text/plain": [
       "array([0.00119737, 0.00073745])"
      ]
     },
     "execution_count": 64,
     "metadata": {},
     "output_type": "execute_result"
    }
   ],
   "source": [
    "from scipy.stats import chi2\n",
    "CHI_value=sum ([(o - e)**2/e for o,e in zip(observed_value,expected_values)])\n",
    "CHI_value"
   ]
  },
  {
   "cell_type": "code",
   "execution_count": 65,
   "metadata": {},
   "outputs": [
    {
     "name": "stdout",
     "output_type": "stream",
     "text": [
      "0.0011973672091425045\n",
      "0.0007374513274851185\n"
     ]
    },
    {
     "data": {
      "text/plain": [
       "0.001934818536627623"
      ]
     },
     "execution_count": 65,
     "metadata": {},
     "output_type": "execute_result"
    }
   ],
   "source": [
    "print(CHI_value[0])\n",
    "print(CHI_value[1])\n",
    "chi_test_value =CHI_value[0]+CHI_value[1]\n",
    "chi_test_value"
   ]
  },
  {
   "cell_type": "code",
   "execution_count": 66,
   "metadata": {},
   "outputs": [],
   "source": [
    "alpha = 0.5 # assumption: CI : 95%\n",
    "ci = 1 - alpha\n"
   ]
  },
  {
   "cell_type": "code",
   "execution_count": 67,
   "metadata": {},
   "outputs": [
    {
     "data": {
      "text/plain": [
       "0.454936423119572"
      ]
     },
     "execution_count": 67,
     "metadata": {},
     "output_type": "execute_result"
    }
   ],
   "source": [
    "chi_crit_value=chi2._ppf(ci,deg_freedom)\n",
    "chi_crit_value"
   ]
  },
  {
   "cell_type": "markdown",
   "metadata": {},
   "source": [
    " chi_test_value >= chi_crit_value ======> Reject the null hypothesis\n",
    "\n",
    "\n",
    "     "
   ]
  },
  {
   "cell_type": "code",
   "execution_count": 68,
   "metadata": {},
   "outputs": [
    {
     "name": "stdout",
     "output_type": "stream",
     "text": [
      "Failed to reject the null hypothesis\n",
      "ie.,The two categorical variables are independant\n"
     ]
    }
   ],
   "source": [
    "if chi_test_value>= chi_crit_value:\n",
    "    print('Reject the null hypothesis')\n",
    "    print('ie.,The two categorical variables are dependant')\n",
    "else:\n",
    "    print('Failed to reject the null hypothesis') \n",
    "    print('ie.,The two categorical variables are independant')   "
   ]
  },
  {
   "cell_type": "markdown",
   "metadata": {},
   "source": [
    "## 4.F test"
   ]
  },
  {
   "cell_type": "markdown",
   "metadata": {},
   "source": [
    "F-test is the statistical test used to compare the variances of two or more samples or populations in hypothesis testing to determine whether they are significantly different or not. It applies the F-test statistic to determine whether the variances of two samples or populations are equal or not.\n",
    "\n",
    "The F-statistic is a test statistic that measures the ratio of the variances between groups or populations. It is calculated by dividing the Population sample variance by each sample variance.\n",
    "\n",
    "F = Variance between groups/variance within groups.\n",
    "\n",
    "\n",
    "By performing the F-test, we compare the calculated F statistic to a critical value or a specified significance level. If the results of the F-test are statistically significant, meaning that the calculated F statistic exceeds the critical value, we can reject the null hypothesis, which assumes equal variances. On the other hand, if the results are not statistically significant, we fail to reject the null hypothesis, indicating that there is not enough evidence to conclude that the variances are significantly different.\n",
    "\n",
    "The F-test is used in statistics and machine learning for comparing variances or testing the overall significance of a statistical model, such as in the analysis of variance (ANOVA) or regression analysis.\n",
    "\n",
    "\n",
    "Parameters:\n",
    "\n",
    "* x :  quantiles\n",
    "* q :  lower or upper tail probability\n",
    "* dfn, dfd shape parameters\n",
    "* loc :location parameter\n",
    "* scale :  scale parameter (default=1)\n",
    "* size :shape of random variate\n",
    "* moments : composed of letters [‘mvsk’] specifying which moments to compute\n",
    "\n",
    "\n",
    "### *The following conditions are critical for using the F-test to compare the variances of two populations:*\n",
    "\n",
    "1. Normality: the populations must have a normal distribution.\n",
    "2. Independent and random selection of sample items: the selection of the samples’ components should be independent and random.\n",
    "3. More than unity: The variance ratio must be one or larger than one; it cannot be less than one. When dividing variance estimates, smaller estimates divide the larger estimates of variances.\n",
    "4. The additive property states that the total of different variance components will equal the total variance, i.e., the total variance is the sum of the variance between samples and the variance within samples.\n",
    "\n",
    "\n"
   ]
  },
  {
   "cell_type": "code",
   "execution_count": 69,
   "metadata": {},
   "outputs": [
    {
     "name": "stdout",
     "output_type": "stream",
     "text": [
      "Degree of freedom 1: 24\n",
      "Degree of freedom 2: 19\n",
      "F-statistic: 1.7430265276484715\n",
      "p-value: 0.8900356615880529\n"
     ]
    }
   ],
   "source": [
    "import numpy as np\n",
    "import scipy.stats as stats\n",
    " \n",
    "# Create the data for two groups\n",
    "group1 = np.random.rand(25)\n",
    "group2 = np.random.rand(20)\n",
    " \n",
    "# Calculate the sample variances\n",
    "variance1 = np.var(group1, ddof=1)\n",
    "variance2 = np.var(group2, ddof=1)\n",
    " \n",
    "# Calculate the F-statistic\n",
    "f_value = variance1 / variance2\n",
    " \n",
    "# Calculate the degrees of freedom\n",
    "df1 = len(group1) - 1\n",
    "df2 = len(group2) - 1\n",
    " \n",
    "# Calculate the p-value\n",
    "p_value = stats.f.cdf(f_value, df1, df2)\n",
    " \n",
    "# Print the results\n",
    "print('Degree of freedom 1:',df1)\n",
    "print('Degree of freedom 2:',df2)\n",
    "print(\"F-statistic:\", f_value)\n",
    "print(\"p-value:\", p_value)\n"
   ]
  },
  {
   "cell_type": "markdown",
   "metadata": {},
   "source": [
    "The F-distribution is the distribution that arises when the ratio of two independent chi-square variables is divided by their respective degrees of freedom. \n",
    "\n",
    "f-value = {Sample 1}/df1}{{Sample 2}/df2}\n",
    "\n",
    "* Sample 1 & Sample 2 are the independent random variable with a chi-square distribution\n",
    "* df1 & df2 are the degrees of freedom for the corresponding samples.\n",
    "\n",
    "\n",
    "The degrees of freedom represent the number of observations used to calculate the chi-square variables that form the ratio. The shape of the F-distribution is determined by its degrees of freedom. It is a right-skewed distribution, meaning it has a longer tail on the right side. As the degrees of freedom increase, the F-distribution becomes more symmetric and approaches a bell shape.\n",
    "\n"
   ]
  },
  {
   "cell_type": "code",
   "execution_count": 70,
   "metadata": {},
   "outputs": [
    {
     "data": {
      "image/png": "[encoded data removed]",
      "text/plain": [
       "<Figure size 1000x400 with 2 Axes>"
      ]
     },
     "metadata": {},
     "output_type": "display_data"
    }
   ],
   "source": [
    "import numpy as np\n",
    "import scipy.stats as stats\n",
    "import matplotlib.pyplot as plt\n",
    " \n",
    "# Set the degrees of freedom\n",
    "df1 = 7\n",
    "df2 = 13\n",
    " \n",
    "# Generate random samples from chi-square distributions\n",
    "sample1 = np.random.chisquare(df1, size=1000)\n",
    "sample2 = np.random.chisquare(df2, size=1000)\n",
    " \n",
    "# Calculate the F-statistic\n",
    "f_value = (sample1 / df1) / (sample2 / df2)\n",
    " \n",
    "# Sort the f-statistic for better distribution plot\n",
    "f_value = np.sort(f_value)\n",
    "# Calculate the PDF of the F-distribution\n",
    "pdf = stats.f.pdf(f_value, df1, df2)\n",
    " \n",
    "# Calculate the CDF of the F-distribution\n",
    "cdf = stats.f.cdf(f_value, df1, df2)\n",
    " \n",
    "# Calculate the corresponding p-value\n",
    "p_value = 1 - cdf\n",
    " \n",
    " \n",
    "# Plot the PDF and CDF of the F-distribution\n",
    "plt.figure(figsize=(10, 4))\n",
    "plt.subplot(1, 2, 1)\n",
    "plt.plot(f_value, pdf)\n",
    "plt.title('F-distribution PDF')\n",
    "plt.xlabel('x')\n",
    "plt.grid(True)\n",
    " \n",
    "plt.ylabel('Probability Density')\n",
    " \n",
    "plt.subplot(1, 2, 2)\n",
    "plt.plot(f_value, cdf)\n",
    "plt.title('F-distribution CDF')\n",
    "plt.xlabel('x')\n",
    "plt.ylabel('Cumulative Probability')\n",
    "plt.grid(True)\n",
    "plt.tight_layout()\n",
    "plt.show()"
   ]
  },
  {
   "cell_type": "markdown",
   "metadata": {},
   "source": [
    "#### Example\n",
    "\n",
    "Perform a one-way analysis of variance (ANOVA) to compare the means of multiple groups using the F-test. The objective is to determine if there are any significant differences in the means of the groups based on a set of generated data."
   ]
  },
  {
   "cell_type": "code",
   "execution_count": 71,
   "metadata": {},
   "outputs": [
    {
     "name": "stdout",
     "output_type": "stream",
     "text": [
      "Degree of Freedom between groups 4\n",
      "Degree of Freedom within groups 20\n",
      "F-value: 1.0397366565546942\n",
      "F-critical: 2.8660814020156584\n",
      "Fail to reject the null hypothesis\n"
     ]
    }
   ],
   "source": [
    "import numpy as np\n",
    "import scipy.stats as stats\n",
    " \n",
    "# Generate 25 samples\n",
    "x = np.random.rand(25)\n",
    " \n",
    "# Randomly group the data into 10 groups\n",
    "num_groups = 5\n",
    "group_labels = np.random.randint(0, num_groups, size=len(x))\n",
    " \n",
    "# Calculate the group means\n",
    "group_means = []\n",
    "for i in range(num_groups):\n",
    "    group_means.append(np.mean(x[group_labels == i]))\n",
    " \n",
    "# Calculate the overall mean\n",
    "overall_mean = np.mean(x)\n",
    " \n",
    "# Calculate the sum of squares between groups\n",
    "SSB = np.sum([len(x[group_labels == i]) * (group_means[i] - overall_mean)**2 for i in range(num_groups)])\n",
    " \n",
    "# Calculate the degrees of freedom between groups\n",
    "df_between = num_groups - 1\n",
    "# Calculate the degrees of freedom with in groups\n",
    "df_within = len(x)-num_groups\n",
    " \n",
    "# Calculate the mean square between groups\n",
    "MSB = SSB / df_between\n",
    " \n",
    "# Calculate the sum of squares within groups\n",
    "SSW = 0\n",
    "for i in range(num_groups):\n",
    "    group_samples = x[group_labels == i]\n",
    "    SSW += np.sum((group_samples - group_means[i])**2)\n",
    " \n",
    "MSW = SSW / df_within\n",
    " \n",
    "# Calculate the F-value\n",
    "F_value = MSB / MSW\n",
    " \n",
    "# Degree of Freedom\n",
    "print('Degree of Freedom between groups',df_between)\n",
    "print('Degree of Freedom within groups',df_within)\n",
    " \n",
    "# Print the F-value\n",
    "print(\"F-value:\", F_value)\n",
    " \n",
    "# Set the significance level\n",
    "alpha = 0.05\n",
    " \n",
    "# Calculate the F-value using Percent point function (inverse of cdf)\n",
    "f_critical = stats.f.ppf(1 - alpha, df_between, df_within)\n",
    " \n",
    "# Print the F-critical\n",
    "print(\"F-critical:\", f_critical)\n",
    " \n",
    "# Check the hypothesis\n",
    "if F_value > f_critical:\n",
    "    print(\"Reject the null hypothesis\")\n",
    "else:\n",
    "    print(\"Fail to reject the null hypothesis\")\n",
    " "
   ]
  },
  {
   "cell_type": "markdown",
   "metadata": {},
   "source": [
    "### Method 2:"
   ]
  },
  {
   "cell_type": "code",
   "execution_count": 72,
   "metadata": {},
   "outputs": [
    {
     "name": "stdout",
     "output_type": "stream",
     "text": [
      "F-value: 2.390357694912179\n",
      "p-value: 0.08508248527342153\n",
      "Fail to reject the null hypothesis\n"
     ]
    }
   ],
   "source": [
    "import numpy as np\n",
    "import scipy.stats as stats\n",
    " \n",
    "np.random.seed(23)\n",
    " \n",
    "# Generate 25 samples\n",
    "x = np.random.rand(25)\n",
    " \n",
    "# Randomly group the data into 10 groups\n",
    "num_groups = 5\n",
    "group_labels = np.random.randint(0, num_groups, size=len(x))\n",
    " \n",
    "# Calculate the group means\n",
    "group_means = []\n",
    "for i in range(num_groups):\n",
    "    group_means.append(np.mean(x[group_labels == i]))\n",
    " \n",
    " \n",
    "# Set the significance level\n",
    "alpha = 0.05\n",
    " \n",
    " \n",
    "# Perform one-way ANOVA using the F-test\n",
    "f_value, p_value = stats.f_oneway(*[x[group_labels == i] for i in range(num_groups)])\n",
    " \n",
    "# Print the results\n",
    "print(\"F-value:\", f_value)\n",
    "print(\"p-value:\", p_value)\n",
    " \n",
    "# Set the significance level\n",
    "alpha = 0.05\n",
    " \n",
    "# Check the hypothesis\n",
    "if p_value < alpha:\n",
    "    print(\"Reject the null hypothesis\")\n",
    "else:\n",
    "    print(\"Fail to reject the null hypothesis\")"
   ]
  },
  {
   "cell_type": "markdown",
   "metadata": {},
   "source": [
    "## ANOVA test"
   ]
  },
  {
   "cell_type": "markdown",
   "metadata": {},
   "source": [
    "### 1.One Way ANOVA\n",
    "\n",
    "* One-way ANOVA refers to a type of ANOVA test where there will be only one independent variable. The test compares means of groups, generally three or more groups, to analyze the variance.\n",
    "* Some of the assumptions followed are the adherence to the samples selected from a normally distributed population, independence of the samples, homogeneity of variance, etc.\n",
    "* The dependent variable should be continuous, and the one categorical independent variable selected should have three levels or groups.\n",
    "* It is commonly used in research fields like science, biology, business economics, and psychology to analyze datasets.\n",
    "* It is often compared with two way ANOVA test. The difference is that the two-way ANOVA test contains two independent variables."
   ]
  },
  {
   "cell_type": "markdown",
   "metadata": {},
   "source": [
    "### Assumptions\n",
    "\n",
    "1. Data samples should be taken from the normally distributed population.\n",
    "2. Samples should be selected randomly to ensure that observations in one sample do not depend on the observations in other samples. In essence, samples should be independent.\n",
    "3. The dependent variable should be continuous.\n",
    "4. The variance of data belonging to different groups should be the same.\n",
    "5. In a group, there should not be any data point exhibiting an unusual pattern.\n",
    "The independent variable should contain three or more levels.\n",
    "\n",
    "\n",
    "---------------------------------------------0r--------------------------------------------\n",
    "\n",
    "1. The sample should be normally distributed (check it with the Shapiro-Wilks test)\n",
    "2. variances should be equal (Fisher’s F test may only be used for 2 groups; alternatives are Levene’s test, the Fligner-Killeen test of homogeneity of variances.)\n",
    "3. predictor variables are categorical\n",
    "4. no outlier must be found;"
   ]
  },
  {
   "cell_type": "markdown",
   "metadata": {},
   "source": [
    " which ANOVA do I run?\n",
    "\n",
    "It all depends on how many **factors** you need to compare and on their nature. In brief:\n",
    "\n",
    "* **One-way ANOVA** if your experimental design is based on one predictor variable (for example: drug treatment, species, location, etc) which includes at least two levels (for example: treatment A, treatment B, treatment C and control),\n",
    "\n",
    "\n",
    "* **Factorial ANOVA** if your experimental design is based on two, three or more preditor variables (for example: drug treatment AND species, citizenship AND gender, species AND gender AND drug treatment, etc) and each variable has at least two levels,\n",
    "\n",
    "\n",
    "* **Repeated measures ANOVA** if you have a single predictor variable and there is dependency in your data, meaning that subjects have been measured repeatedly, at different time points or in different conditions (for example: all individuals are tested at birth, during childhood and during adulthood, or all individuals have been submitted to and tested after three consecutive drug treatments).\n",
    "\n",
    "\n",
    "* **Factorial repeated measures ANOVA** if you have at least two predictor variables and there is dependency in your data, meaning that subjects have been measured repeatedly, at different time points or in different conditions (for example: all individuals grouped by citizenship are tested at birth, during childhood and during adulthood, or all individuals grouped by gender have been submitted to and tested after three consecutive drug treatments).\n",
    "\n",
    "\n",
    "===================================================================================================================================================================================\n"
   ]
  },
  {
   "cell_type": "markdown",
   "metadata": {},
   "source": [
    "* A one-way ANOVA is used when assessing for differences in one continuous variable between ONE grouping variable. For example, a one-way ANOVA would be appropriate if the goal of research is to assess for differences in job satisfaction levels between ethnicities. In this example, there is only one dependent variable (job satisfaction) and ONE independent variable (ethnicity).\n",
    "\n",
    "* A factorial ANOVA is a general term applied when examining multiple independent variables. For example, a factorial ANOVA would be appropriate if the goal of a study was to examine for differences in job satisfaction levels by ethnicity and education level. In this example, there is only one dependent variable (job satisfaction) and TWO independent variables (ethnicity and education level). A factorial ANOVA can be applied when there are two or more independent variables.\n",
    "\n",
    "* Within-Subjects ANOVA: A within-subjects ANOVA is appropriate when examining for differences in a continuous level variable over time. A within-subjects ANOVA is also called a repeated measures ANOVA. This type of test is frequently used when using a pretest and posttest design, but is not limited to only two time periods. The repeated measures ANOVA can be used when examining for differences over two or more time periods. For example, this analysis would be appropriate if the researcher seeks to explore for differences in job satisfaction levels, measured at three points in time (pretest, posttest, 2-month follow up).\n",
    "\n",
    "* Mixed-Model ANOVA: A mixed model ANOVA, sometimes called a within-between ANOVA, is appropriate when examining for differences in a continuous level variable by group and time. This type of ANOVA is frequently applied when using a quasi-experimental or true experimental design. This analysis would be applicable if the purpose of the research is to examine for potential differences in a continuous level variable between a treatment and control group, and over time (pretest and posttest).\n",
    "\n",
    "\n",
    "* ANCOVA: An analysis of covariance (ANCOVA) is appropriate when examining for differences in a continuous dependent variable between groups, while controlling for the effect of additional variables. The “C” in ANCOVA denotes that a covariate is being inputted into the model, and this covariate examination can be applied to a between-subjects design, a within-subjects design, or a mixed-model design. ANCOVAs are frequently used in experimental studies when the researcher wants to account for the effects of an antecedent (control) variable.\n",
    "\n",
    "* MANOVA: Finally, a multivariate analysis of variance (MANOVA) is an extension on the ANOVA, and is appropriate when examining for differences in multiple continuous level variables between groups. For example, a MANOVA would be applicable if assessing for differences between ethnicities in job satisfaction AND intrinsic motivation levels of participants. In this example, job satisfaction and intrinsic motivation are the continuous level dependent variables. The MANOVA can be conducted with multiple independent variables, and can also include covariates (i.e., MANCOVA).\n",
    "\n",
    "\n",
    "==================================================================================================================================================================================="
   ]
  },
  {
   "cell_type": "markdown",
   "metadata": {},
   "source": [
    "### Statement:\n",
    "\n",
    "Researchers took 20 cars of the same to take part in a study. These cars are randomly doped with one of the four-engine oils and allowed to run freely for 100 kilometers each. At the end of the journey, the performance of each of the cars is noted."
   ]
  },
  {
   "cell_type": "markdown",
   "metadata": {},
   "source": [
    "Ans:"
   ]
  },
  {
   "cell_type": "markdown",
   "metadata": {},
   "source": [
    "Stepwise Implementation\n",
    "Conducting a One-Way ANOVA test in Python is a step by step process and these steps are explained below:\n",
    "\n",
    "**Step 1:** Creating data groups.\n",
    "\n",
    "The very first step is to create three arrays that will keep the information of cars when d"
   ]
  },
  {
   "cell_type": "code",
   "execution_count": 73,
   "metadata": {},
   "outputs": [],
   "source": [
    "\n",
    "# Performance when each of the engine \n",
    "# oil is applied\n",
    "performance1 = [89, 89, 88, 78, 79]\n",
    "performance2 = [93, 92, 94, 89, 88]\n",
    "performance3 = [89, 88, 89, 93, 90]\n",
    "performance4 = [81, 78, 81, 92, 82]"
   ]
  },
  {
   "cell_type": "markdown",
   "metadata": {},
   "source": [
    "**Step 2:** Conduct the one-way ANOVA:\n",
    "\n",
    "Python provides us f_oneway() function from SciPy library using which we can conduct the One-Way ANOVA."
   ]
  },
  {
   "cell_type": "code",
   "execution_count": 74,
   "metadata": {},
   "outputs": [
    {
     "data": {
      "text/plain": [
       "F_onewayResult(statistic=4.625000000000002, pvalue=0.016336459839780215)"
      ]
     },
     "execution_count": 74,
     "metadata": {},
     "output_type": "execute_result"
    }
   ],
   "source": [
    "\n",
    "# Importing library\n",
    "from scipy.stats import f_oneway\n",
    " \n",
    "# Performance when each of the engine \n",
    "# oil is applied\n",
    "performance1 = [89, 89, 88, 78, 79]\n",
    "performance2 = [93, 92, 94, 89, 88]\n",
    "performance3 = [89, 88, 89, 93, 90]\n",
    "performance4 = [81, 78, 81, 92, 82]\n",
    " \n",
    "# Conduct the one-way ANOVA\n",
    "f_oneway(performance1, performance2, performance3, performance4)"
   ]
  },
  {
   "cell_type": "markdown",
   "metadata": {},
   "source": [
    "**Step 3:** Analyse the result:\n",
    "\n",
    "The F statistic and p-value turn out to be equal to 4.625 and 0.016336498 respectively. Since the p-value is less than 0.05 hence we would reject the null hypothesis. This implies that we have sufficient proof to say that there exists a difference in the performance among four different engine oils.\n",
    "\n",
    "\n",
    "-----------------------------------------------------------------------------------------------------------------------------------------------------------------------------------"
   ]
  },
  {
   "cell_type": "markdown",
   "metadata": {},
   "source": [
    "### 2. Repeated measures ANOVA\n",
    "Repeated measures ANOVA in Python is used to find whether there is a statistically significant difference exists between the means of three or more groups in which the same subjects displayed in each group. "
   ]
  },
  {
   "cell_type": "markdown",
   "metadata": {},
   "source": [
    "Hypothesis:\n",
    "A repeated-measures ANOVA has the following null and alternative hypotheses involved:\n",
    "\n",
    "The null hypothesis (H0): µ1 = µ2 = µ3 (In other words, population means are equal)\n",
    "The alternative hypothesis: (Ha): According to it, at least one population mean differs from the rest"
   ]
  },
  {
   "cell_type": "markdown",
   "metadata": {},
   "source": [
    "Q) Let us consider an example, researchers are curious to know if four different engine oils lead to different mileage of cars. In order to test this, they measured the mileage of 5 cars using four different engine oils. Since each car’s mileage is measured by applying each of the four-engine oils one by one so we can use a repeated-measures ANOVA to check if the mean reaction time differs between drugs. "
   ]
  },
  {
   "cell_type": "markdown",
   "metadata": {},
   "source": [
    "Performing the repeated measures ANOVA in Python is a step-by-step process. These steps are explained below.\n",
    "\n",
    "**Step 1:** Create the data "
   ]
  },
  {
   "cell_type": "code",
   "execution_count": 75,
   "metadata": {},
   "outputs": [
    {
     "name": "stdout",
     "output_type": "stream",
     "text": [
      "    Cars  Engine Oil  Mileage\n",
      "0      1           1       36\n",
      "1      1           2       38\n",
      "2      1           3       30\n",
      "3      1           4       29\n",
      "4      2           1       34\n",
      "5      2           2       38\n",
      "6      2           3       30\n",
      "7      2           4       29\n",
      "8      3           1       34\n",
      "9      3           2       28\n",
      "10     3           3       38\n",
      "11     3           4       32\n",
      "12     4           1       38\n",
      "13     4           2       34\n",
      "14     4           3       20\n",
      "15     4           4       44\n",
      "16     5           1       26\n",
      "17     5           2       28\n",
      "18     5           3       34\n",
      "19     5           4       50\n"
     ]
    }
   ],
   "source": [
    "# Import the library \n",
    "import numpy as np \n",
    "import pandas as pd \n",
    "\n",
    "# Create the data \n",
    "dataframe = pd.DataFrame({'Cars': np.repeat([1, 2, 3, 4, 5], 4), \n",
    "\t\t\t\t\t\t'Engine Oil': np.tile([1, 2, 3, 4], 5), \n",
    "\t\t\t\t\t\t'Mileage': [36, 38, 30, 29, \n",
    "\t\t\t\t\t\t\t\t\t34, 38, 30, 29, \n",
    "\t\t\t\t\t\t\t\t\t34, 28, 38, 32, \n",
    "\t\t\t\t\t\t\t\t\t38, 34, 20, 44, \n",
    "\t\t\t\t\t\t\t\t\t26, 28, 34, 50]}) \n",
    "\n",
    "# Print the dataframe \n",
    "print(dataframe) \n"
   ]
  },
  {
   "cell_type": "markdown",
   "metadata": {},
   "source": [
    "**Step 2:** Conduct the repeated measures ANOVA.\n",
    "\n",
    "Python provides us AnovaRM() function from the statsmodels library to measure repeated measures ANOVA. "
   ]
  },
  {
   "cell_type": "code",
   "execution_count": 76,
   "metadata": {},
   "outputs": [
    {
     "name": "stdout",
     "output_type": "stream",
     "text": [
      "              Anova\n",
      "=================================\n",
      "    F Value Num DF  Den DF Pr > F\n",
      "---------------------------------\n",
      "Oil  0.5679 3.0000 12.0000 0.6466\n",
      "=================================\n",
      "\n"
     ]
    }
   ],
   "source": [
    "# Import library \n",
    "import numpy as np \n",
    "import pandas as pd \n",
    "from statsmodels.stats.anova import AnovaRM \n",
    "\n",
    "# Create the data \n",
    "dataframe = pd.DataFrame({'Cars': np.repeat([1, 2, 3, 4, 5], 4), \n",
    "\t\t\t\t\t\t'Oil': np.tile([1, 2, 3, 4], 5), \n",
    "\t\t\t\t\t\t'Mileage': [36, 38, 30, 29, \n",
    "\t\t\t\t\t\t\t\t\t34, 38, 30, 29, \n",
    "\t\t\t\t\t\t\t\t\t34, 28, 38, 32, \n",
    "\t\t\t\t\t\t\t\t\t38, 34, 20, 44, \n",
    "\t\t\t\t\t\t\t\t\t26, 28, 34, 50]}) \n",
    "\n",
    "# Conduct the repeated measures ANOVA \n",
    "print(AnovaRM(data=dataframe, depvar='Mileage', \n",
    "\t\t\tsubject='Cars', within=['Oil']).fit()) \n"
   ]
  },
  {
   "cell_type": "markdown",
   "metadata": {},
   "source": [
    "**Step 3:** Analyse the results.\n",
    "\n",
    "In this example, the F test-statistic comes out to be equal to 0.5679 and the corresponding p-value is 0.6466. Since this p-value is not less than 0.05, we cannot reject the null hypothesis and conclude that there is a not statistically significant difference in mean response times between the four-engine oils."
   ]
  },
  {
   "cell_type": "markdown",
   "metadata": {},
   "source": [
    "**Step 4:** Report the outcome.\n",
    "\n",
    "Let us report the result now: A one-way repeated measures ANOVA is conducted on 5 individuals to interpret the effect of four different engine oils on the mileage. Results showed that the type of drug used led to statistically significant differences in response time (F(3, 12) = 0.5679, p < 0.6466)."
   ]
  },
  {
   "cell_type": "markdown",
   "metadata": {},
   "source": [
    "### 3. Factorial ANOVA"
   ]
  },
  {
   "cell_type": "markdown",
   "metadata": {},
   "source": [
    "A factorial ANOVA is any ANOVA (“analysis of variance”) that uses two or more independent factors and a single response variable. \n",
    "\n",
    "This type of ANOVA should be used whenever you’d like to understand how two or more factors affect a response variable and whether or not there is an interaction effect between the factors on the response variable."
   ]
  },
  {
   "cell_type": "markdown",
   "metadata": {},
   "source": [
    "#### **Example 1: Plant Growth**\n",
    "--------------------------------\n",
    "\n",
    "A botanist wants to understand how sunlight exposure and watering frequency affect plant growth. She plants 100 seeds and lets them grow for three months under different conditions for sunlight exposure and watering frequency. After three months, she records the height of each plant.\n",
    "\n",
    "In this case, she has the following variables:\n",
    "\n",
    "Response variable: plant growth\n",
    "Factors: sunlight exposure, watering frequency\n",
    "And she would like to answer the following questions:\n",
    "\n",
    "Does sunlight exposure affect plant growth?\n",
    "Does watering frequency affect plant growth?\n",
    "Is there an interaction effect between sunlight exposure and watering frequency?\n",
    "She could use a factorial ANOVA for this analysis because she wants to understand how two factors affect a single response variable.\n",
    "\n",
    "#### **Example 2: Exam Scores**\n",
    "-----------------------------------\n",
    "\n",
    "A professor wants to understand how class time and teaching method affect exam scores. He uses two different teaching methods and two different teaching times (early morning and early afternoon) and records the average exam scores of each student at the end of the semester.\n",
    "\n",
    "In this case, he has the following variables:\n",
    "\n",
    "Response variable: exam score\n",
    "Factors: teaching method, teaching time\n",
    "And he would like to answer the following questions:\n",
    "\n",
    "Does teaching method affect exam scores?\n",
    "Does teaching time affect exam scores?\n",
    "Is there an interaction effect between teaching method and teach time?\n",
    "He could use a factorial ANOVA for this analysis because he wants to understand how two factors affect a single response variable.\n",
    "\n",
    "#### **Example 3: Annual Income**\n",
    "----------------------------------\n",
    "\n",
    "An economist collects data to understand how education level (high school diploma, college degree, graduate degree), marital status (single, divorced, married), and region (North, East, South, West) affect annual income.\n",
    "\n",
    "In this case, he has the following variables:\n",
    "\n",
    "Response variable: annual income\n",
    "Factors: education level, marital status, region\n",
    "And he would like to answer the following questions:\n",
    "\n",
    "Does education level affect income?\n",
    "Does marital status affect income?\n",
    "Does region affect income?\n",
    "Is there an interaction effect between these three independent factors?\n",
    "He could use a factorial ANOVA for this analysis because he wants to understand how three factors affect a single response variable."
   ]
  }
 ],
 "metadata": {
  "kernelspec": {
   "display_name": "Python 3",
   "language": "python",
   "name": "python3"
  },
  "language_info": {
   "codemirror_mode": {
    "name": "ipython",
    "version": 3
   },
   "file_extension": ".py",
   "mimetype": "text/x-python",
   "name": "python",
   "nbconvert_exporter": "python",
   "pygments_lexer": "ipython3",
   "version": "3.11.3"
  }
 },
 "nbformat": 4,
 "nbformat_minor": 2
}
